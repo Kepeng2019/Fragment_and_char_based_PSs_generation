{
 "cells": [
  {
   "cell_type": "markdown",
   "metadata": {},
   "source": [
    "### 1.0 Voc2"
   ]
  },
  {
   "cell_type": "code",
   "execution_count": 2,
   "metadata": {},
   "outputs": [
    {
     "name": "stdout",
     "output_type": "stream",
     "text": [
      "the whole token number is  164778261\n"
     ]
    }
   ],
   "source": [
    "\n",
    "import pandas as pd\n",
    "from rdkit import Chem\n",
    "import os\n",
    "import re\n",
    "\n",
    "def tokenize(smiles):\n",
    "    \"\"\"Takes a SMILES and return a list of characters/tokens\"\"\"\n",
    "    regex = '(\\[[^\\[\\]]{1,6}\\])'\n",
    "    # smiles = replace_halogen(smiles)\n",
    "    char_list = re.split(regex, smiles)\n",
    "    # print(char_list)\n",
    "    tokenized = []\n",
    "    for char in char_list:\n",
    "        if char.startswith('['):\n",
    "            tokenized.append(char)\n",
    "        else:\n",
    "            chars = [unit for unit in char]\n",
    "            [tokenized.append(unit) for unit in chars]\n",
    "    # tokenized.append('EOS')\n",
    "    # print(tokenized)\n",
    "    return tokenized\n",
    "\n",
    "\n",
    "\n",
    "smiles = pd.read_csv(\"./data/transformer/01_succeed_smiles.csv\",header=None).values.flatten().tolist()[:3500000]\n",
    "\n",
    "\n",
    "voc_set=set()\n",
    "voc_number = []\n",
    "for i in range(len(smiles)):\n",
    "    token = tokenize(smiles[i])\n",
    "    voc_set= voc_set|set(token)\n",
    "    voc_number += token\n",
    "    # if i==50:\n",
    "    #     break\n",
    "print('the whole token number is ',len(voc_number))\n",
    "voc = list(voc_set)\n",
    "pd_data=pd.DataFrame(voc)\n",
    "pd_data.to_csv(\"./data/transformer/voc2.csv\",header=None,index=None)\n",
    "\n",
    "# 后面添加Cl和Br对应的编码L和R即为最终的版本，同时Cl的l被拆成了C和l，由于C本身句子含有，但是l是不含有的，需要删除# 后面添加Cl和Br对应的编码R和L即为最终的版本"
   ]
  },
  {
   "cell_type": "markdown",
   "metadata": {},
   "source": [
    "### 训练集与测试集数据拆分"
   ]
  },
  {
   "cell_type": "code",
   "execution_count": 3,
   "metadata": {},
   "outputs": [
    {
     "name": "stdout",
     "output_type": "stream",
     "text": [
      "Train List: 2800000\n",
      "Validation List: 350000\n",
      "Test List: 350000\n"
     ]
    }
   ],
   "source": [
    "\n",
    "import pandas as pd\n",
    "from sklearn.model_selection import train_test_split\n",
    "import random\n",
    "\n",
    "\n",
    "# 从CSV文件中加载数据集\n",
    "data = pd.read_csv(\"./data/transformer/01_succeed_smiles.csv\",header=None).values.flatten().tolist()[:3500000]\n",
    "\n",
    "\n",
    "\n",
    "def split_list(input_list):\n",
    "    # 随机打乱列表\n",
    "    random.shuffle(input_list)\n",
    "\n",
    "    # 计算每个部分的大小\n",
    "    n = len(input_list)\n",
    "    train_size = int(0.8 * n)\n",
    "    valid_size = int(0.1 * n)\n",
    "    \n",
    "    # 切分列表\n",
    "    train_list = input_list[:train_size]\n",
    "    valid_list = input_list[train_size:train_size + valid_size]\n",
    "    test_list = input_list[train_size + valid_size:]\n",
    "\n",
    "    return train_list, valid_list, test_list\n",
    "\n",
    "\n",
    "# 拆分列表\n",
    "train, valid, test = split_list(data)\n",
    "\n",
    "print(\"Train List:\", len(train))\n",
    "print(\"Validation List:\", len(valid))\n",
    "print(\"Test List:\", len(test))\n",
    "\n",
    "pd.DataFrame(train,columns=['smiles']).to_csv('./data/gen_train.csv')\n",
    "pd.DataFrame(valid,columns=['smiles']).to_csv('./data/gen_valid.csv')\n",
    "pd.DataFrame(test,columns=['smiles']).to_csv('./data/gen_test.csv')\n"
   ]
  },
  {
   "cell_type": "code",
   "execution_count": null,
   "metadata": {},
   "outputs": [],
   "source": []
  },
  {
   "cell_type": "code",
   "execution_count": null,
   "metadata": {},
   "outputs": [],
   "source": []
  },
  {
   "cell_type": "code",
   "execution_count": null,
   "metadata": {},
   "outputs": [],
   "source": []
  },
  {
   "cell_type": "code",
   "execution_count": null,
   "metadata": {},
   "outputs": [],
   "source": []
  },
  {
   "cell_type": "code",
   "execution_count": null,
   "metadata": {},
   "outputs": [],
   "source": []
  },
  {
   "cell_type": "code",
   "execution_count": null,
   "metadata": {},
   "outputs": [],
   "source": []
  },
  {
   "cell_type": "code",
   "execution_count": null,
   "metadata": {},
   "outputs": [],
   "source": []
  },
  {
   "cell_type": "code",
   "execution_count": null,
   "metadata": {},
   "outputs": [],
   "source": []
  },
  {
   "cell_type": "code",
   "execution_count": null,
   "metadata": {},
   "outputs": [],
   "source": []
  },
  {
   "cell_type": "code",
   "execution_count": null,
   "metadata": {},
   "outputs": [],
   "source": []
  },
  {
   "cell_type": "code",
   "execution_count": null,
   "metadata": {},
   "outputs": [],
   "source": []
  },
  {
   "cell_type": "code",
   "execution_count": null,
   "metadata": {},
   "outputs": [],
   "source": []
  },
  {
   "cell_type": "code",
   "execution_count": null,
   "metadata": {},
   "outputs": [],
   "source": []
  },
  {
   "cell_type": "code",
   "execution_count": null,
   "metadata": {},
   "outputs": [],
   "source": []
  }
 ],
 "metadata": {
  "kernelspec": {
   "display_name": "amp",
   "language": "python",
   "name": "python3"
  },
  "language_info": {
   "codemirror_mode": {
    "name": "ipython",
    "version": 3
   },
   "file_extension": ".py",
   "mimetype": "text/x-python",
   "name": "python",
   "nbconvert_exporter": "python",
   "pygments_lexer": "ipython3",
   "version": "3.8.18"
  }
 },
 "nbformat": 4,
 "nbformat_minor": 2
}
